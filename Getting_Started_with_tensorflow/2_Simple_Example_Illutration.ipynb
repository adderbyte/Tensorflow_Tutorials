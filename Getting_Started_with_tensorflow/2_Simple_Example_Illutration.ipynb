{
 "cells": [
  {
   "cell_type": "markdown",
   "metadata": {},
   "source": [
    "# Simple Example Illustration\n"
   ]
  },
  {
   "cell_type": "markdown",
   "metadata": {},
   "source": [
    "We discuss here simple examples that illustrate the concept discussed in the last seession"
   ]
  },
  {
   "cell_type": "code",
   "execution_count": 3,
   "metadata": {
    "collapsed": true
   },
   "outputs": [],
   "source": [
    "import tensorflow as tf # Import\n"
   ]
  },
  {
   "cell_type": "markdown",
   "metadata": {},
   "source": [
    "Generally we will also include the import below in further tutorials: "
   ]
  },
  {
   "cell_type": "code",
   "execution_count": 2,
   "metadata": {
    "collapsed": true
   },
   "outputs": [],
   "source": [
    "import matplotlib.pyplot as plt # for visualization.\n",
    "import numpy as np              # Low-level numerical Python library.\n",
    "import pandas as pd             # Higher-level numerical Python library."
   ]
  },
  {
   "cell_type": "markdown",
   "metadata": {},
   "source": [
    "<p>Tensorflow provides <b> default graphs </b>, but we can also create our own graphs. The example below illustrate this.</p> "
   ]
  },
  {
   "cell_type": "code",
   "execution_count": 16,
   "metadata": {
    "collapsed": false
   },
   "outputs": [
    {
     "name": "stdout",
     "output_type": "stream",
     "text": [
      " x variable name is : \n",
      "x_const:0\n",
      "\n",
      "\n",
      " y variable name is : \n",
      "y_const:0\n",
      "\n",
      "\n",
      "The evaluated operation output is:  40\n",
      "The evaluated operation output is:  40\n"
     ]
    }
   ],
   "source": [
    "graph = tf.Graph()\n",
    "# Establish the  graph above as the \"default\" graph.\n",
    "# We Assemble a graph consisting of the following 3 operations: (note that tf.constant is an operation in Tensorflow)\n",
    "# Two tf.constant operations to create the operands.\n",
    "#  One tf.multiply operation to add the two operands.\n",
    "# the variable have been assigned names using name =\"\"\n",
    "# To retrieve the name use x.name or y.name \n",
    "\n",
    "\n",
    "with graph.as_default():\n",
    "    # constant x\n",
    "    x = tf.constant(8, name=\"x_const\")\n",
    "    print \" x variable name is : \" \n",
    "    print x.name \n",
    "    print (\"\\n\")\n",
    "    \n",
    "    # constant y.\n",
    "    y = tf.constant(5, name=\"y_const\")\n",
    "    print \" y variable name is : \" \n",
    "    print y.name \n",
    "    print (\"\\n\")\n",
    "    \n",
    "    #multiplication\n",
    "    multiply = tf.multiply(x, y, name=\"x_y_multiplication\")\n",
    "\n",
    "\n",
    "    # Now create a session.\n",
    "    # The session will run the default graph.\n",
    "    with tf.Session() as sess:\n",
    "        result = multiply.eval(); \n",
    "        results = sess.run(multiply);\n",
    "        #use either of this syntax above  to get results then print result below\n",
    "        print\"The evaluated operation output is: \",result\n",
    "        print \"The evaluated operation output is: \",results\n",
    "        "
   ]
  },
  {
   "cell_type": "markdown",
   "metadata": {
    "collapsed": true
   },
   "source": [
    "<p> With this simple tool we can at this stage do several operations. The example above can be adapted for any of the operations below:\n",
    "<p><b>tf.add, tf.subtract, tf.multiply, tf.scalar_mul, tf.div, tf.divide, tf.truediv, tf.floordiv, tf.realdiv, tf.cross.</b></p>\n",
    "\n",
    "Check the link https://www.tensorflow.org/api_guides/python/math_ops to get more tips and explanation on what these operations do. Then repeat the example.\n",
    "</p>"
   ]
  },
  {
   "cell_type": "markdown",
   "metadata": {
    "collapsed": true
   },
   "source": [
    "<p>Let's do another example using 2D tensors:</p>"
   ]
  },
  {
   "cell_type": "code",
   "execution_count": 16,
   "metadata": {
    "collapsed": false
   },
   "outputs": [
    {
     "name": "stdout",
     "output_type": "stream",
     "text": [
      "The shape of the matrix is:  (2, 6)\n",
      "The shape of the all-ones matrix is:  (2, 6)\n",
      "matrix addition is: \n",
      "[[ 3  4  6  8 12 14]\n",
      " [ 6  7  8  9  3  9]]\n"
     ]
    }
   ],
   "source": [
    "with tf.Graph().as_default():\n",
    "    # six-element matrix (2-D tensor):\n",
    "    matrix = tf.constant([[2, 3, 5, 7, 11, 13],[5, 6, 7, 8, 2, 8]], dtype=tf.int32)\n",
    "    print\"The shape of the matrix is: \", matrix.shape\n",
    "\n",
    "    # make another six-element matrix. Each element in the matrix will be\n",
    "    # initialized to 1. We parse in the shape of the matrix\n",
    "    \n",
    "    ones = tf.ones([2,6], dtype=tf.int32)\n",
    "    print \"The shape of the all-ones matrix is: \", ones.shape\n",
    "\n",
    "    # Add the two tensors. The resulting tensor is a six-element matrix.\n",
    "    adder = tf.add(matrix, ones)\n",
    "\n",
    "    # Create a session to run the default graph.\n",
    "    with tf.Session() as sess:\n",
    "        print \"matrix addition is: \"\n",
    "        print adder.eval()"
   ]
  },
  {
   "cell_type": "code",
   "execution_count": null,
   "metadata": {
    "collapsed": true
   },
   "outputs": [],
   "source": []
  }
 ],
 "metadata": {
  "anaconda-cloud": {},
  "kernelspec": {
   "display_name": "Python [python2]",
   "language": "python",
   "name": "Python [python2]"
  },
  "language_info": {
   "codemirror_mode": {
    "name": "ipython",
    "version": 2
   },
   "file_extension": ".py",
   "mimetype": "text/x-python",
   "name": "python",
   "nbconvert_exporter": "python",
   "pygments_lexer": "ipython2",
   "version": "2.7.12"
  }
 },
 "nbformat": 4,
 "nbformat_minor": 0
}
