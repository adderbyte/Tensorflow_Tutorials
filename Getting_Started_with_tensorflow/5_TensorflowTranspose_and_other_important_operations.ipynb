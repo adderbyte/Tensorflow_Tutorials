{
 "cells": [
  {
   "cell_type": "markdown",
   "metadata": {},
   "source": [
    "# Import Tensorflow Operations"
   ]
  },
  {
   "cell_type": "markdown",
   "metadata": {},
   "source": [
    "<b> Transpose Operations</b>"
   ]
  },
  {
   "cell_type": "markdown",
   "metadata": {},
   "source": [
    "Create a numpy array as below: pay attention to the perm paramater"
   ]
  },
  {
   "cell_type": "code",
   "execution_count": 10,
   "metadata": {
    "collapsed": true
   },
   "outputs": [],
   "source": [
    "import numpy as np\n",
    "import tensorflow as tf"
   ]
  },
  {
   "cell_type": "code",
   "execution_count": 3,
   "metadata": {
    "collapsed": false
   },
   "outputs": [],
   "source": [
    "array = np.array([[1, 2, 3] ,  [4, 5, 6]])"
   ]
  },
  {
   "cell_type": "markdown",
   "metadata": {},
   "source": [
    "Get the shape of the array:"
   ]
  },
  {
   "cell_type": "code",
   "execution_count": 6,
   "metadata": {
    "collapsed": false
   },
   "outputs": [
    {
     "name": "stdout",
     "output_type": "stream",
     "text": [
      "shape of the array is : (2, 3)\n"
     ]
    }
   ],
   "source": [
    "print(\"shape of the array is :\", array.shape)"
   ]
  },
  {
   "cell_type": "markdown",
   "metadata": {},
   "source": [
    "Lets use tf.transpose  operation on the \"array\" above and explain the output. This we do by parsing the array generated above into the transpose operation and run it in a session."
   ]
  },
  {
   "cell_type": "code",
   "execution_count": 10,
   "metadata": {
    "collapsed": true
   },
   "outputs": [],
   "source": [
    "transpose_array= tf.transpose(array, perm=[1,0]) \n"
   ]
  },
  {
   "cell_type": "markdown",
   "metadata": {},
   "source": [
    "Run in a session"
   ]
  },
  {
   "cell_type": "code",
   "execution_count": 13,
   "metadata": {
    "collapsed": false
   },
   "outputs": [
    {
     "name": "stdout",
     "output_type": "stream",
     "text": [
      "the transposed array is: \n",
      "  [[1 4]\n",
      " [2 5]\n",
      " [3 6]]\n",
      "the resulting shape is :  (3, 2)\n"
     ]
    }
   ],
   "source": [
    "with tf.Session() as sess:\n",
    "    init = tf.initialize_all_variables()\n",
    "    sess.run(init)\n",
    "    print (\"the transposed array is: \\n \" , transpose_array.eval())\n",
    "    print (\"the resulting shape is : \" , result.shape)"
   ]
  },
  {
   "cell_type": "markdown",
   "metadata": {},
   "source": [
    "Explanation: \n",
    "  We have an array of shape (2,3) and we use the tf.transpose specifying the perm=[1,0]. This optional parameter perm which we specified will basically permute the array like below:\n",
    "  \n",
    "      * [1,0] permute such that dimension 1 --->(becomes) 1, and dimension 0  --> 1. \n",
    "      * Basically this is exchange of dimension\n",
    "      * So that array of shape  [2,3]  becomes [3,2]"
   ]
  },
  {
   "cell_type": "markdown",
   "metadata": {},
   "source": [
    "# Further Examples"
   ]
  },
  {
   "cell_type": "code",
   "execution_count": 15,
   "metadata": {
    "collapsed": true
   },
   "outputs": [],
   "source": [
    "twothreefour = np.array([ [[1,2,3,4], [5,6,7,8], [9,10,11,12]] , \n",
    "                        [[13,14,15,16], [17,18,19,20], [21,22,23,24]] ])"
   ]
  },
  {
   "cell_type": "code",
   "execution_count": 18,
   "metadata": {
    "collapsed": false
   },
   "outputs": [
    {
     "name": "stdout",
     "output_type": "stream",
     "text": [
      "Shape is :  (2, 3, 4)\n"
     ]
    }
   ],
   "source": [
    "# shape of the array above \n",
    "print(\"Shape is : \", twothreefour.shape)"
   ]
  },
  {
   "cell_type": "code",
   "execution_count": 22,
   "metadata": {
    "collapsed": false
   },
   "outputs": [
    {
     "name": "stdout",
     "output_type": "stream",
     "text": [
      "[[[ 1  5  9]\n",
      "  [ 2  6 10]\n",
      "  [ 3  7 11]\n",
      "  [ 4  8 12]]\n",
      "\n",
      " [[13 17 21]\n",
      "  [14 18 22]\n",
      "  [15 19 23]\n",
      "  [16 20 24]]]\n",
      "\n",
      "\n",
      "shape is:  (2, 4, 3)\n"
     ]
    }
   ],
   "source": [
    "twofourthree = tf.transpose(twothreefour, perm=[0,2,1]) \n",
    "with tf.Session() as sess:\n",
    "    init = tf.initialize_all_variables()\n",
    "    sess.run(init)\n",
    "    print (twofourthree.eval())\n",
    "    print (\"\\n\")\n",
    "    print (\"shape is: \", twofourthree.get_shape())"
   ]
  },
  {
   "cell_type": "markdown",
   "metadata": {},
   "source": [
    "Using the same explanation we have that perm [0,2,1]. Show that an array of shape (2,3,4) becaomes (2,4,3)"
   ]
  },
  {
   "cell_type": "markdown",
   "metadata": {},
   "source": [
    "The last one as exercise:"
   ]
  },
  {
   "cell_type": "code",
   "execution_count": 24,
   "metadata": {
    "collapsed": false
   },
   "outputs": [
    {
     "name": "stdout",
     "output_type": "stream",
     "text": [
      "[[[ 1  2  3  4]\n",
      "  [13 14 15 16]]\n",
      "\n",
      " [[ 5  6  7  8]\n",
      "  [17 18 19 20]]\n",
      "\n",
      " [[ 9 10 11 12]\n",
      "  [21 22 23 24]]]\n",
      "\n",
      "\n",
      "My shape is: (3, 2, 4)\n"
     ]
    }
   ],
   "source": [
    "threetwofour = tf.transpose(twothreefour, perm=[1,0,2]) \n",
    "with tf.Session() as sess:\n",
    "    init = tf.initialize_all_variables()\n",
    "    sess.run(init)\n",
    "    print (threetwofour.eval())\n",
    "    print(\"\\n\")\n",
    "    print(\"My shape is:\", threetwofour.get_shape())"
   ]
  },
  {
   "cell_type": "markdown",
   "metadata": {},
   "source": [
    "Using perm= [1,0,2]. Explain the output (3,2,4) obtained from the array of shape (2,4,3) after the transpose operation in a session."
   ]
  },
  {
   "cell_type": "markdown",
   "metadata": {},
   "source": [
    "#  Placeholder"
   ]
  },
  {
   "cell_type": "markdown",
   "metadata": {},
   "source": [
    "This creates a placeholder for a tensor. It is used in most mpodels to hold the dimension of variables. \n",
    "\n",
    "Important: This tensor will produce an error if evaluated. Its value must be fed using the <i>feed_dict</i> optional argument to Session.run( ), Tensor.eval( ), or Operation.run( )."
   ]
  },
  {
   "cell_type": "code",
   "execution_count": 33,
   "metadata": {
    "collapsed": false
   },
   "outputs": [
    {
     "name": "stdout",
     "output_type": "stream",
     "text": [
      "The result has shape  (1024, 1024)\n"
     ]
    }
   ],
   "source": [
    "x = tf.placeholder(tf.float32, shape=(1024, 1024))\n",
    "y = tf.matmul(x, x)\n",
    "\n",
    "with tf.Session() as sess:\n",
    "    #print(sess.run(y))  # ERROR: will fail because x was not fed.\n",
    "    rand_array = np.random.rand(1024, 1024)\n",
    "    \n",
    "    result = sess.run(y, feed_dict={x: rand_array})  # Will succeed.\n",
    "    print (\"The result has shape \", result.shape)"
   ]
  },
  {
   "cell_type": "markdown",
   "metadata": {},
   "source": [
    "Note :\n",
    "    * that in most models we feed in the training data \n",
    "    * We montly feed in the data in batches by specifying the batch_size.\n",
    "    * The data is scheduled at each time and a random sample of batch size is collected and fed to model\n",
    "    * This is done for computational efficiency \n",
    "    * It allows compuatation of bactch stochastic gradient."
   ]
  },
  {
   "cell_type": "markdown",
   "metadata": {
    "collapsed": true
   },
   "source": [
    "#  Reshape ,Gather, Dynamic_partition and Split"
   ]
  },
  {
   "cell_type": "markdown",
   "metadata": {},
   "source": [
    "### Gather Operation (  tf.gather( ) ) "
   ]
  },
  {
   "cell_type": "markdown",
   "metadata": {},
   "source": [
    "Generate an array and test the gether operation. Note this approach for fast prototyping: \n",
    "    * We generate an array in Numpy and test the operations of tensor flow on it."
   ]
  },
  {
   "cell_type": "markdown",
   "metadata": {},
   "source": [
    "Use: Gather slices from params according to indices.\n",
    "\n",
    "indices must be an integer tensor of any dimension (usually 0-D or 1-D). This is best illustrated by an example:"
   ]
  },
  {
   "cell_type": "code",
   "execution_count": 18,
   "metadata": {
    "collapsed": false
   },
   "outputs": [],
   "source": [
    "array = np.array([[1,2,3],[4,9,6],[2,3,4],[7,8,0]])"
   ]
  },
  {
   "cell_type": "code",
   "execution_count": 19,
   "metadata": {
    "collapsed": false
   },
   "outputs": [
    {
     "data": {
      "text/plain": [
       "(4, 3)"
      ]
     },
     "execution_count": 19,
     "metadata": {},
     "output_type": "execute_result"
    }
   ],
   "source": [
    "array.shape"
   ]
  },
  {
   "cell_type": "code",
   "execution_count": 27,
   "metadata": {
    "collapsed": false
   },
   "outputs": [],
   "source": [
    "gather_output0  = tf.gather(array,1)\n",
    "gather_output01  = tf.gather(array,2)\n",
    "gather_output02  = tf.gather(array,3)\n",
    "\n",
    "gather_output11  = tf.gather(array,[1,2])\n",
    "gather_output12  = tf.gather(array,[1,3])\n",
    "gather_output13  = tf.gather(array,[3,2])\n",
    "\n",
    "\n",
    "\n",
    "\n",
    "gather_output  = tf.gather(array,[1,0,2])\n",
    "gather_output1  = tf.gather(array,[1,1,2])\n",
    "gather_output2  = tf.gather(array,[1,2,1])\n",
    "\n"
   ]
  },
  {
   "cell_type": "code",
   "execution_count": 28,
   "metadata": {
    "collapsed": false
   },
   "outputs": [
    {
     "name": "stdout",
     "output_type": "stream",
     "text": [
      "[4 9 6]\n",
      "\n",
      "\n",
      "[2 3 4]\n",
      "\n",
      "\n",
      "[7 8 0]\n",
      "\n",
      "\n",
      "[[4 9 6]\n",
      " [2 3 4]]\n",
      "\n",
      "\n",
      "[[4 9 6]\n",
      " [7 8 0]]\n",
      "\n",
      "\n",
      "[[7 8 0]\n",
      " [2 3 4]]\n",
      "\n",
      "\n",
      "[[4 9 6]\n",
      " [1 2 3]\n",
      " [2 3 4]]\n",
      "\n",
      "\n",
      "[[4 9 6]\n",
      " [4 9 6]\n",
      " [2 3 4]]\n",
      "\n",
      "\n",
      "[[4 9 6]\n",
      " [2 3 4]\n",
      " [4 9 6]]\n",
      "\n",
      "\n"
     ]
    }
   ],
   "source": [
    "with tf.Session() as sess:\n",
    "    print (gather_output0.eval());print(\"\\n\")\n",
    "    print (gather_output01.eval());print(\"\\n\")\n",
    "    print (gather_output02.eval());print(\"\\n\")  \n",
    "    print (gather_output11.eval());print(\"\\n\")\n",
    "    print (gather_output12.eval());print(\"\\n\")\n",
    "    print (gather_output13.eval());print(\"\\n\")\n",
    "    \n",
    "    print (gather_output.eval());print(\"\\n\")\n",
    "    print (gather_output1.eval());print(\"\\n\")\n",
    "    print (gather_output2.eval());print(\"\\n\")\n",
    "    #print (gather_output2.eval());print(\"\\n\")\n"
   ]
  },
  {
   "cell_type": "markdown",
   "metadata": {},
   "source": [
    "And looking at this simple example:\n",
    "    * Initialise  simple array\n",
    "    * test gather operation"
   ]
  },
  {
   "cell_type": "code",
   "execution_count": 11,
   "metadata": {
    "collapsed": true
   },
   "outputs": [],
   "source": [
    "array_simple = np.array([1,2,3])"
   ]
  },
  {
   "cell_type": "code",
   "execution_count": 15,
   "metadata": {
    "collapsed": false
   },
   "outputs": [
    {
     "name": "stdout",
     "output_type": "stream",
     "text": [
      "shape of simple array is:  (3,)\n"
     ]
    }
   ],
   "source": [
    "print \"shape of simple array is: \", array_simple.shape"
   ]
  },
  {
   "cell_type": "code",
   "execution_count": 57,
   "metadata": {
    "collapsed": false
   },
   "outputs": [
    {
     "name": "stdout",
     "output_type": "stream",
     "text": [
      "[1]\n",
      "\n",
      "\n",
      "[2]\n",
      "\n",
      "\n",
      "[3]\n",
      "\n",
      "\n",
      "[2 3]\n",
      "\n",
      "\n",
      "[1 2]\n",
      "\n",
      "\n"
     ]
    }
   ],
   "source": [
    "gather1  = tf.gather(array1,[0])\n",
    "gather01 = tf.gather(array1,[1])\n",
    "gather02 = tf.gather(array1,[2])\n",
    "\n",
    "gather2 = tf.gather(array1,[1,2])\n",
    "gather3 = tf.gather(array1,[0,1])\n",
    "\n",
    "with tf.Session() as sess:\n",
    "    print (gather1.eval());print(\"\\n\")\n",
    "    print (gather01.eval());print(\"\\n\")\n",
    "    print (gather02.eval());print(\"\\n\")\n",
    "    print (gather2.eval());print(\"\\n\")\n",
    "    print (gather3.eval());print(\"\\n\")\n",
    "\n",
    "    "
   ]
  },
  {
   "cell_type": "markdown",
   "metadata": {},
   "source": [
    "## tf.reshape( )"
   ]
  },
  {
   "cell_type": "markdown",
   "metadata": {},
   "source": [
    "Note:\n",
    "  \n",
    "    *  Use the same array that was initiated\n",
    "    *  Do reshape using tf.reshape( )\n",
    "    "
   ]
  },
  {
   "cell_type": "code",
   "execution_count": 64,
   "metadata": {
    "collapsed": false
   },
   "outputs": [
    {
     "data": {
      "text/plain": [
       "(4, 3)"
      ]
     },
     "execution_count": 64,
     "metadata": {},
     "output_type": "execute_result"
    }
   ],
   "source": [
    "array.shape # Confirm array shape"
   ]
  },
  {
   "cell_type": "code",
   "execution_count": 74,
   "metadata": {
    "collapsed": false
   },
   "outputs": [
    {
     "name": "stdout",
     "output_type": "stream",
     "text": [
      "This is the array\n",
      " [[1 2 3]\n",
      " [4 9 6]\n",
      " [2 3 4]\n",
      " [7 8 0]]\n"
     ]
    }
   ],
   "source": [
    "print (\"This is the array\\n\" ,array) # see the output and compare with the initial array,"
   ]
  },
  {
   "cell_type": "code",
   "execution_count": 84,
   "metadata": {
    "collapsed": true
   },
   "outputs": [],
   "source": [
    "reshape_ops= tf.reshape(array,[-1,4]) # Note the parameters in reshpe\n",
    "reshape_ops1= tf.reshape(array,[-1,3]) # Note the parameters in reshpe\n",
    "reshape_ops2= tf.reshape(array,[-1,6]) # Note the parameters in reshpe\n",
    "\n",
    "reshape_ops_back1= tf.reshape(array,[6,-1]) # Note the parameters in reshpe\n",
    "reshape_ops_back2= tf.reshape(array,[3,-1]) # Note the parameters in reshpe\n",
    "reshape_ops_back3= tf.reshape(array,[4,-1]) # Note the parameters in reshpe\n"
   ]
  },
  {
   "cell_type": "code",
   "execution_count": 86,
   "metadata": {
    "collapsed": false
   },
   "outputs": [
    {
     "name": "stdout",
     "output_type": "stream",
     "text": [
      "[[1 2 3 4]\n",
      " [9 6 2 3]\n",
      " [4 7 8 0]]\n",
      "\n",
      "\n",
      "[[1 2 3]\n",
      " [4 9 6]\n",
      " [2 3 4]\n",
      " [7 8 0]]\n",
      "\n",
      "\n",
      "[[1 2 3 4 9 6]\n",
      " [2 3 4 7 8 0]]\n",
      "\n",
      "\n",
      "Output when we reverse the parameters:\n",
      "\n",
      "\n",
      "[[1 2]\n",
      " [3 4]\n",
      " [9 6]\n",
      " [2 3]\n",
      " [4 7]\n",
      " [8 0]]\n",
      "\n",
      "\n",
      "[[1 2 3 4]\n",
      " [9 6 2 3]\n",
      " [4 7 8 0]]\n",
      "\n",
      "\n",
      "[[1 2 3]\n",
      " [4 9 6]\n",
      " [2 3 4]\n",
      " [7 8 0]]\n",
      "\n",
      "\n"
     ]
    }
   ],
   "source": [
    "with tf.Session() as sess:\n",
    "    print(reshape_ops.eval());print(\"\\n\")\n",
    "    print(reshape_ops1.eval());print(\"\\n\")\n",
    "    print(reshape_ops2.eval());print(\"\\n\")\n",
    "    print (\"Output when we reverse the parameters:\");print(\"\\n\")\n",
    "    print(reshape_ops_back1.eval());print(\"\\n\")\n",
    "    print(reshape_ops_back2.eval());print(\"\\n\")\n",
    "    print(reshape_ops_back3.eval());print(\"\\n\")\n"
   ]
  },
  {
   "cell_type": "markdown",
   "metadata": {},
   "source": [
    "Note: The input size and output size must be the same. ---otherwise it gives error. Simple way to check this out is to \n",
    "make sure the input can be paritioned into the the reshape parameters by doing simple multiplications."
   ]
  },
  {
   "cell_type": "markdown",
   "metadata": {},
   "source": [
    "### dynamic_cell_partitions"
   ]
  },
  {
   "cell_type": "markdown",
   "metadata": {},
   "source": [
    "This is declared as :\n",
    "<p> <b>tf.dynamic_partition (array, partitions, num_partitions, name=None)</b> </p>"
   ]
  },
  {
   "cell_type": "markdown",
   "metadata": {},
   "source": [
    "Note:\n",
    "    * we decalare number_partitions --- number of partitions\n",
    "    * Use our array initialised earlier\n",
    "    * We declare the partition as [0 1 0 1] . This signifies the partitions we want 0's fall to one partition and 1 the other partitions given that we have two num_partitions=2.\n",
    "    * The output is a list"
   ]
  },
  {
   "cell_type": "code",
   "execution_count": 96,
   "metadata": {
    "collapsed": false
   },
   "outputs": [
    {
     "name": "stdout",
     "output_type": "stream",
     "text": [
      "This is the array\n",
      " [[1 2 3]\n",
      " [4 9 6]\n",
      " [2 3 4]\n",
      " [7 8 0]]\n"
     ]
    }
   ],
   "source": [
    "print (\"This is the array\\n\" ,array) # This is out array"
   ]
  },
  {
   "cell_type": "markdown",
   "metadata": {},
   "source": [
    "<p>  We show how to make two and three partitions below</p>"
   ]
  },
  {
   "cell_type": "code",
   "execution_count": 123,
   "metadata": {
    "collapsed": false
   },
   "outputs": [],
   "source": [
    "num_partitions = 2\n",
    "num_partitions1 = 3\n",
    "\n",
    "partitions = [0, 0, 1, 1]\n",
    "partitions1 = [0 ,1 ,1, 2 ]"
   ]
  },
  {
   "cell_type": "code",
   "execution_count": 119,
   "metadata": {
    "collapsed": false
   },
   "outputs": [],
   "source": [
    "dynamic_ops =tf.dynamic_partition(array, partitions, num_partitions, name=None) # 2 partitions\n",
    "dynamic_ops1 =tf.dynamic_partition(array, partitions1, num_partitions1, name=None) # 3 partitions\n"
   ]
  },
  {
   "cell_type": "code",
   "execution_count": 125,
   "metadata": {
    "collapsed": false
   },
   "outputs": [
    {
     "name": "stdout",
     "output_type": "stream",
     "text": [
      "Output for 2 partitions: \n",
      "[[1 2 3]\n",
      " [4 9 6]]\n",
      "\n",
      "\n",
      "[[2 3 4]\n",
      " [7 8 0]]\n",
      "\n",
      "\n",
      "Output for three partitions: \n",
      "[[1 2 3]]\n",
      "\n",
      "\n",
      "[[4 9 6]\n",
      " [2 3 4]]\n",
      "\n",
      "\n",
      "[[7 8 0]]\n",
      "\n",
      "\n"
     ]
    }
   ],
   "source": [
    "with tf.Session() as sess:\n",
    "    run = sess.run(dynamic_ops)\n",
    "    run1 = sess.run(dynamic_ops1)\n",
    "    print(\"Output for 2 partitions: \")\n",
    "    print (run[0]);print(\"\\n\")\n",
    "    print(run[1]) ;print(\"\\n\")# Compare result with initial array. Out is list\n",
    "    print(\"Output for three partitions: \")\n",
    "    \n",
    "    print (run1[0]);print(\"\\n\")\n",
    "    print (run1[1]);print(\"\\n\")\n",
    "    print (run1[2]);print(\"\\n\")\n"
   ]
  },
  {
   "cell_type": "markdown",
   "metadata": {},
   "source": [
    "## tf.split( )\n",
    "  * Make sure you use an up to date tensorflow version. Otherwise in older versions, this implemetation will give error "
   ]
  },
  {
   "cell_type": "markdown",
   "metadata": {},
   "source": [
    "This is specified in the documentation as below:"
   ]
  },
  {
   "cell_type": "markdown",
   "metadata": {},
   "source": [
    "tf.split(value, num_or_size_splits, axis=0, num=None, name='split')."
   ]
  },
  {
   "cell_type": "markdown",
   "metadata": {},
   "source": [
    "It  splits a tensor into subtensors. This is best illustrated by an example:\n",
    "    * we define (5,30) aray in numpy\n",
    "    * we split the array along axis 1\n",
    "    * We  specify the number of splits as 1-Dimen Tensor along axis 1. So we have 3 splits.\n",
    "    "
   ]
  },
  {
   "cell_type": "markdown",
   "metadata": {},
   "source": [
    "------\n",
    "<p>Specify an array</p>\n",
    "<p>Create a (5 by 30) numpy array. The syntax using numpy is shown below</p>"
   ]
  },
  {
   "cell_type": "code",
   "execution_count": 2,
   "metadata": {
    "collapsed": false
   },
   "outputs": [
    {
     "name": "stdout",
     "output_type": "stream",
     "text": [
      "('Array shape without split operation is : ', (5, 30))\n"
     ]
    }
   ],
   "source": [
    "ArrayBeforeSplitting = np.arange(150).reshape(5,30) \n",
    "print (\"Array shape without split operation is : \" ,ArrayBeforeSplitting.shape)"
   ]
  },
  {
   "cell_type": "markdown",
   "metadata": {},
   "source": [
    "-----\n",
    "<p> specify number of splits</p>"
   ]
  },
  {
   "cell_type": "code",
   "execution_count": 3,
   "metadata": {
    "collapsed": false
   },
   "outputs": [
    {
     "name": "stdout",
     "output_type": "stream",
     "text": [
      "('specify number of partions using 1-Dimen Variable:', <tf.Tensor 'Shape:0' shape=(1,) dtype=int32>)\n"
     ]
    }
   ],
   "source": [
    "split_1D = tf.Variable([8,13,9])\n",
    "print(\"specify number of partions using 1-Dimen Variable:\" , tf.shape(split_1D))"
   ]
  },
  {
   "cell_type": "markdown",
   "metadata": {},
   "source": [
    "--------\n",
    "<p> Use tf.split </p>\n",
    "<p>Make 3 splits aong y axis so that we have <i> (5,8) ,(5,13),(5,9)</i> splits. The axis 1 add up to give 30-- we can see axis 1 has 30 elements so the partition along that axis should add up to 30 otherwise it gives error."
   ]
  },
  {
   "cell_type": "code",
   "execution_count": 6,
   "metadata": {
    "collapsed": false
   },
   "outputs": [],
   "source": [
    "split1,split2,split3 = tf.split(ArrayBeforeSplitting,split_1D,1)\n",
    "# we have 3 splits along axis 1 specified spcifically\n",
    "# by the split_1D . That is split axis 1D (with 30 elements) into partions with 8 ,13, and 9 elements while the x axis\n",
    "#remains constant"
   ]
  },
  {
   "cell_type": "code",
   "execution_count": 7,
   "metadata": {
    "collapsed": true
   },
   "outputs": [],
   "source": [
    "#INitialise global variables. because split_ID is a variable and needs to be initialised before being\n",
    "#used in a computational graph\n",
    "init_op = tf.global_variables_initializer()\n"
   ]
  },
  {
   "cell_type": "code",
   "execution_count": 16,
   "metadata": {
    "collapsed": false
   },
   "outputs": [
    {
     "name": "stdout",
     "output_type": "stream",
     "text": [
      "\n",
      "\n",
      "[[  0   1   2   3   4   5   6   7]\n",
      " [ 30  31  32  33  34  35  36  37]\n",
      " [ 60  61  62  63  64  65  66  67]\n",
      " [ 90  91  92  93  94  95  96  97]\n",
      " [120 121 122 123 124 125 126 127]]\n",
      "('the shape of the first split operation is : ', (5, 8))\n",
      "\n",
      "\n",
      "[[  8   9  10  11  12  13  14  15  16  17  18  19  20]\n",
      " [ 38  39  40  41  42  43  44  45  46  47  48  49  50]\n",
      " [ 68  69  70  71  72  73  74  75  76  77  78  79  80]\n",
      " [ 98  99 100 101 102 103 104 105 106 107 108 109 110]\n",
      " [128 129 130 131 132 133 134 135 136 137 138 139 140]]\n",
      "('the shape of the second split operation is : ', (5, 13))\n",
      "\n",
      "\n",
      "[[ 21  22  23  24  25  26  27  28  29]\n",
      " [ 51  52  53  54  55  56  57  58  59]\n",
      " [ 81  82  83  84  85  86  87  88  89]\n",
      " [111 112 113 114 115 116 117 118 119]\n",
      " [141 142 143 144 145 146 147 148 149]]\n",
      "('the shape of the third split operation is : ', (5, 9))\n"
     ]
    }
   ],
   "source": [
    "with tf.Session() as sess:\n",
    "    sess.run(init_op) # run variable initialisation.\n",
    "    result=split1.eval();print(\"\\n\")\n",
    "    print(result)\n",
    "    print(\"the shape of the first split operation is : \",result.shape)\n",
    "    result2=split2.eval();print(\"\\n\")\n",
    "    print(result2)\n",
    "    print(\"the shape of the second split operation is : \",result2.shape)\n",
    "    \n",
    "    result3=split3.eval();print(\"\\n\")\n",
    "    print(result3)\n",
    "    print(\"the shape of the third split operation is : \",result3.shape)"
   ]
  },
  {
   "cell_type": "code",
   "execution_count": null,
   "metadata": {
    "collapsed": true
   },
   "outputs": [],
   "source": []
  }
 ],
 "metadata": {
  "anaconda-cloud": {},
  "kernelspec": {
   "display_name": "Python [conda env:python2]",
   "language": "python",
   "name": "conda-env-python2-py"
  },
  "language_info": {
   "codemirror_mode": {
    "name": "ipython",
    "version": 2
   },
   "file_extension": ".py",
   "mimetype": "text/x-python",
   "name": "python",
   "nbconvert_exporter": "python",
   "pygments_lexer": "ipython2",
   "version": "2.7.12"
  }
 },
 "nbformat": 4,
 "nbformat_minor": 0
}
