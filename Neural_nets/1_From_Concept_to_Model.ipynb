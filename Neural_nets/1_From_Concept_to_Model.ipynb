{
 "cells": [
  {
   "cell_type": "markdown",
   "metadata": {},
   "source": [
    "# From Concept to Model "
   ]
  },
  {
   "cell_type": "code",
   "execution_count": 294,
   "metadata": {
    "collapsed": true
   },
   "outputs": [],
   "source": [
    "\n",
    "# Common Import\n",
    "\n",
    "import tensorflow as tf\n",
    "import matplotlib.pyplot as plt # for visualization.\n",
    "import numpy as np              # Low-level numerical Python library.\n",
    "import pandas as pd             # Higher-level numerical Python library.\n",
    "from matplotlib import cm\n",
    "from matplotlib import gridspec\n",
    "from numpy import linspace\n",
    "import sklearn.metrics as metrics\n",
    "import math\n"
   ]
  },
  {
   "cell_type": "markdown",
   "metadata": {},
   "source": [
    "\n",
    "<p><b> Important Terminologies</b></p>\n",
    "<p><b>Steps</b> : which is the total number of training iterations. One step calculates the loss from one batch and uses that value to modify the model's weights once.</p>\n",
    "<p><b>Batch size: </b> which is the number of examples (chosen at random) for a single step.</p>\n",
    "\n",
    "<p> From this two terminologies, we know that: </p>\n",
    "$$total\\_number\\_of\\_trained\\_examples = batchsize*steps$$\n",
    "\n",
    "<p><b>Periods: </b> controls the granularity of reporting. For example, if periods is set to 10 and steps is set to 100, then the exercise will output the loss value every 10 steps (or 10 times). Note that modifying periods does not alter what your model learns.</p>\n",
    "\n"
   ]
  },
  {
   "cell_type": "markdown",
   "metadata": {},
   "source": [
    "# Exploratory Data Analysis"
   ]
  },
  {
   "cell_type": "markdown",
   "metadata": {},
   "source": [
    "<p> We wish to learn something about our data set before we can go on to build models for predictions. The Ipython Pandas Library will come very useful here</p>"
   ]
  },
  {
   "cell_type": "code",
   "execution_count": 70,
   "metadata": {
    "collapsed": false
   },
   "outputs": [],
   "source": [
    "# We import data using pandas. Note that pandas library is already in our import list. check cell one\n",
    "# \n",
    "california_data_test = pd.read_csv(\"housing.csv\", nrows=100)\n",
    "\n",
    "float_cols = [c for c in df_test if california_data_test[c].dtype == \"float64\"]\n",
    "float32_cols = {c: np.float32 for c in float_cols}\n",
    "\n",
    "# Read and convert float64  to float32 . This is to prevent warning in tensorflow.\n",
    "california_data = pd.read_csv(\"housing.csv\", engine='c', dtype=float32_cols)"
   ]
  },
  {
   "cell_type": "code",
   "execution_count": 71,
   "metadata": {
    "collapsed": false
   },
   "outputs": [
    {
     "data": {
      "text/html": [
       "<div>\n",
       "<table border=\"1\" class=\"dataframe\">\n",
       "  <thead>\n",
       "    <tr style=\"text-align: right;\">\n",
       "      <th></th>\n",
       "      <th>longitude</th>\n",
       "      <th>latitude</th>\n",
       "      <th>housing_median_age</th>\n",
       "      <th>total_rooms</th>\n",
       "      <th>total_bedrooms</th>\n",
       "      <th>population</th>\n",
       "      <th>households</th>\n",
       "      <th>median_income</th>\n",
       "      <th>median_house_value</th>\n",
       "      <th>ocean_proximity</th>\n",
       "    </tr>\n",
       "  </thead>\n",
       "  <tbody>\n",
       "    <tr>\n",
       "      <th>0</th>\n",
       "      <td>-122.230003</td>\n",
       "      <td>37.880001</td>\n",
       "      <td>41.0</td>\n",
       "      <td>880.0</td>\n",
       "      <td>129.0</td>\n",
       "      <td>322.0</td>\n",
       "      <td>126.0</td>\n",
       "      <td>8.3252</td>\n",
       "      <td>452600.0</td>\n",
       "      <td>NEAR BAY</td>\n",
       "    </tr>\n",
       "  </tbody>\n",
       "</table>\n",
       "</div>"
      ],
      "text/plain": [
       "    longitude   latitude  housing_median_age  total_rooms  total_bedrooms  \\\n",
       "0 -122.230003  37.880001                41.0        880.0           129.0   \n",
       "\n",
       "   population  households  median_income  median_house_value ocean_proximity  \n",
       "0       322.0       126.0         8.3252            452600.0        NEAR BAY  "
      ]
     },
     "execution_count": 71,
     "metadata": {},
     "output_type": "execute_result"
    }
   ],
   "source": [
    "# Let us view the first few data set\n",
    "california_data[0:1]"
   ]
  },
  {
   "cell_type": "code",
   "execution_count": 72,
   "metadata": {
    "collapsed": false
   },
   "outputs": [
    {
     "name": "stderr",
     "output_type": "stream",
     "text": [
      "//anaconda/envs/seychelles/lib/python3.5/site-packages/numpy/lib/function_base.py:3834: RuntimeWarning: Invalid value encountered in percentile\n",
      "  RuntimeWarning)\n"
     ]
    },
    {
     "data": {
      "text/html": [
       "<div>\n",
       "<table border=\"1\" class=\"dataframe\">\n",
       "  <thead>\n",
       "    <tr style=\"text-align: right;\">\n",
       "      <th></th>\n",
       "      <th>longitude</th>\n",
       "      <th>latitude</th>\n",
       "      <th>housing_median_age</th>\n",
       "      <th>total_rooms</th>\n",
       "      <th>total_bedrooms</th>\n",
       "      <th>population</th>\n",
       "      <th>households</th>\n",
       "      <th>median_income</th>\n",
       "      <th>median_house_value</th>\n",
       "    </tr>\n",
       "  </thead>\n",
       "  <tbody>\n",
       "    <tr>\n",
       "      <th>count</th>\n",
       "      <td>20640.000000</td>\n",
       "      <td>20640.000000</td>\n",
       "      <td>20640.000000</td>\n",
       "      <td>20640.000000</td>\n",
       "      <td>20433.000000</td>\n",
       "      <td>20640.000000</td>\n",
       "      <td>20640.000000</td>\n",
       "      <td>20640.000000</td>\n",
       "      <td>20640.00000</td>\n",
       "    </tr>\n",
       "    <tr>\n",
       "      <th>mean</th>\n",
       "      <td>-119.569115</td>\n",
       "      <td>35.631866</td>\n",
       "      <td>28.639486</td>\n",
       "      <td>2635.758789</td>\n",
       "      <td>537.870544</td>\n",
       "      <td>1425.477905</td>\n",
       "      <td>499.539673</td>\n",
       "      <td>3.870662</td>\n",
       "      <td>206854.96875</td>\n",
       "    </tr>\n",
       "    <tr>\n",
       "      <th>std</th>\n",
       "      <td>2.003539</td>\n",
       "      <td>2.135956</td>\n",
       "      <td>12.585629</td>\n",
       "      <td>2181.604736</td>\n",
       "      <td>421.384338</td>\n",
       "      <td>1132.460815</td>\n",
       "      <td>382.329773</td>\n",
       "      <td>1.899820</td>\n",
       "      <td>115395.18750</td>\n",
       "    </tr>\n",
       "    <tr>\n",
       "      <th>min</th>\n",
       "      <td>-124.349998</td>\n",
       "      <td>32.540001</td>\n",
       "      <td>1.000000</td>\n",
       "      <td>2.000000</td>\n",
       "      <td>1.000000</td>\n",
       "      <td>3.000000</td>\n",
       "      <td>1.000000</td>\n",
       "      <td>0.499900</td>\n",
       "      <td>14999.00000</td>\n",
       "    </tr>\n",
       "    <tr>\n",
       "      <th>25%</th>\n",
       "      <td>-121.800003</td>\n",
       "      <td>33.930000</td>\n",
       "      <td>18.000000</td>\n",
       "      <td>1447.750000</td>\n",
       "      <td>NaN</td>\n",
       "      <td>787.000000</td>\n",
       "      <td>280.000000</td>\n",
       "      <td>2.563400</td>\n",
       "      <td>119600.00000</td>\n",
       "    </tr>\n",
       "    <tr>\n",
       "      <th>50%</th>\n",
       "      <td>-118.489998</td>\n",
       "      <td>34.259998</td>\n",
       "      <td>29.000000</td>\n",
       "      <td>2127.000000</td>\n",
       "      <td>NaN</td>\n",
       "      <td>1166.000000</td>\n",
       "      <td>409.000000</td>\n",
       "      <td>3.534800</td>\n",
       "      <td>179700.00000</td>\n",
       "    </tr>\n",
       "    <tr>\n",
       "      <th>75%</th>\n",
       "      <td>-118.010002</td>\n",
       "      <td>37.709999</td>\n",
       "      <td>37.000000</td>\n",
       "      <td>3148.000000</td>\n",
       "      <td>NaN</td>\n",
       "      <td>1725.000000</td>\n",
       "      <td>605.000000</td>\n",
       "      <td>4.743250</td>\n",
       "      <td>264725.00000</td>\n",
       "    </tr>\n",
       "    <tr>\n",
       "      <th>max</th>\n",
       "      <td>-114.309998</td>\n",
       "      <td>41.950001</td>\n",
       "      <td>52.000000</td>\n",
       "      <td>39320.000000</td>\n",
       "      <td>6445.000000</td>\n",
       "      <td>35682.000000</td>\n",
       "      <td>6082.000000</td>\n",
       "      <td>15.000100</td>\n",
       "      <td>500001.00000</td>\n",
       "    </tr>\n",
       "  </tbody>\n",
       "</table>\n",
       "</div>"
      ],
      "text/plain": [
       "          longitude      latitude  housing_median_age   total_rooms  \\\n",
       "count  20640.000000  20640.000000        20640.000000  20640.000000   \n",
       "mean    -119.569115     35.631866           28.639486   2635.758789   \n",
       "std        2.003539      2.135956           12.585629   2181.604736   \n",
       "min     -124.349998     32.540001            1.000000      2.000000   \n",
       "25%     -121.800003     33.930000           18.000000   1447.750000   \n",
       "50%     -118.489998     34.259998           29.000000   2127.000000   \n",
       "75%     -118.010002     37.709999           37.000000   3148.000000   \n",
       "max     -114.309998     41.950001           52.000000  39320.000000   \n",
       "\n",
       "       total_bedrooms    population    households  median_income  \\\n",
       "count    20433.000000  20640.000000  20640.000000   20640.000000   \n",
       "mean       537.870544   1425.477905    499.539673       3.870662   \n",
       "std        421.384338   1132.460815    382.329773       1.899820   \n",
       "min          1.000000      3.000000      1.000000       0.499900   \n",
       "25%               NaN    787.000000    280.000000       2.563400   \n",
       "50%               NaN   1166.000000    409.000000       3.534800   \n",
       "75%               NaN   1725.000000    605.000000       4.743250   \n",
       "max       6445.000000  35682.000000   6082.000000      15.000100   \n",
       "\n",
       "       median_house_value  \n",
       "count         20640.00000  \n",
       "mean         206854.96875  \n",
       "std          115395.18750  \n",
       "min           14999.00000  \n",
       "25%          119600.00000  \n",
       "50%          179700.00000  \n",
       "75%          264725.00000  \n",
       "max          500001.00000  "
      ]
     },
     "execution_count": 72,
     "metadata": {},
     "output_type": "execute_result"
    }
   ],
   "source": [
    "# The imported data is now a pandas dataframe which is a fancy name for table\n",
    "\n",
    "#  We provide a general statistical description of the dataframe as below\n",
    "california_data.describe()\n"
   ]
  },
  {
   "cell_type": "code",
   "execution_count": 75,
   "metadata": {
    "collapsed": false
   },
   "outputs": [
    {
     "name": "stdout",
     "output_type": "stream",
     "text": [
      "The shape of data  is :  (20640, 10)\n"
     ]
    }
   ],
   "source": [
    "# Lets also report the shape of the dataframe\n",
    "print (\"The shape of data  is : \", california_data.shape)"
   ]
  },
  {
   "cell_type": "code",
   "execution_count": 76,
   "metadata": {
    "collapsed": false
   },
   "outputs": [
    {
     "name": "stdout",
     "output_type": "stream",
     "text": [
      "The columns in the data set is : \n",
      "['longitude' 'latitude' 'housing_median_age' 'total_rooms' 'total_bedrooms'\n",
      " 'population' 'households' 'median_income' 'median_house_value'\n",
      " 'ocean_proximity']\n"
     ]
    }
   ],
   "source": [
    "#Lets check the number of columns we have \n",
    "print (\"The columns in the data set is : \")\n",
    "print (california_data.columns.values)"
   ]
  },
  {
   "cell_type": "code",
   "execution_count": 77,
   "metadata": {
    "collapsed": false
   },
   "outputs": [
    {
     "data": {
      "text/plain": [
       "longitude               0\n",
       "latitude                0\n",
       "housing_median_age      0\n",
       "total_rooms             0\n",
       "total_bedrooms        207\n",
       "population              0\n",
       "households              0\n",
       "median_income           0\n",
       "median_house_value      0\n",
       "ocean_proximity         0\n",
       "dtype: int64"
      ]
     },
     "execution_count": 77,
     "metadata": {},
     "output_type": "execute_result"
    }
   ],
   "source": [
    "#We should check for Null data.\n",
    "#This is an important step in exploratory data analysis\n",
    "\n",
    "california_data.isnull().sum()"
   ]
  },
  {
   "cell_type": "code",
   "execution_count": 78,
   "metadata": {
    "collapsed": false
   },
   "outputs": [],
   "source": [
    "# We replace null values in total_bedrooms with the median\n",
    "california_data[\"total_bedrooms\"].fillna(california_data[\"total_bedrooms\"].median(),inplace = True)"
   ]
  },
  {
   "cell_type": "code",
   "execution_count": 79,
   "metadata": {
    "collapsed": false
   },
   "outputs": [
    {
     "data": {
      "text/plain": [
       "longitude             0\n",
       "latitude              0\n",
       "housing_median_age    0\n",
       "total_rooms           0\n",
       "total_bedrooms        0\n",
       "population            0\n",
       "households            0\n",
       "median_income         0\n",
       "median_house_value    0\n",
       "ocean_proximity       0\n",
       "dtype: int64"
      ]
     },
     "execution_count": 79,
     "metadata": {},
     "output_type": "execute_result"
    }
   ],
   "source": [
    "# A call to check null values return zero for all\n",
    "california_data.isnull().sum()"
   ]
  },
  {
   "cell_type": "markdown",
   "metadata": {},
   "source": [
    "<p>Let us randomize the data, just to be sure not to get any pathological ordering effects that might harm the performance of our model</p>"
   ]
  },
  {
   "cell_type": "code",
   "execution_count": 80,
   "metadata": {
    "collapsed": true
   },
   "outputs": [],
   "source": [
    "# We randomize the data by using reindexing \n",
    "california_data = california_data.reindex(\n",
    "    np.random.permutation(california_data.index))"
   ]
  },
  {
   "cell_type": "code",
   "execution_count": 81,
   "metadata": {
    "collapsed": false
   },
   "outputs": [
    {
     "data": {
      "text/html": [
       "<div>\n",
       "<table border=\"1\" class=\"dataframe\">\n",
       "  <thead>\n",
       "    <tr style=\"text-align: right;\">\n",
       "      <th></th>\n",
       "      <th>longitude</th>\n",
       "      <th>latitude</th>\n",
       "      <th>housing_median_age</th>\n",
       "      <th>total_rooms</th>\n",
       "      <th>total_bedrooms</th>\n",
       "      <th>population</th>\n",
       "      <th>households</th>\n",
       "      <th>median_income</th>\n",
       "      <th>median_house_value</th>\n",
       "      <th>ocean_proximity</th>\n",
       "    </tr>\n",
       "  </thead>\n",
       "  <tbody>\n",
       "    <tr>\n",
       "      <th>4541</th>\n",
       "      <td>-118.199997</td>\n",
       "      <td>34.029999</td>\n",
       "      <td>37.0</td>\n",
       "      <td>1583.0</td>\n",
       "      <td>392.0</td>\n",
       "      <td>1776.0</td>\n",
       "      <td>377.0</td>\n",
       "      <td>2.7266</td>\n",
       "      <td>140800.0</td>\n",
       "      <td>&lt;1H OCEAN</td>\n",
       "    </tr>\n",
       "    <tr>\n",
       "      <th>10211</th>\n",
       "      <td>-117.910004</td>\n",
       "      <td>33.889999</td>\n",
       "      <td>30.0</td>\n",
       "      <td>1631.0</td>\n",
       "      <td>212.0</td>\n",
       "      <td>523.0</td>\n",
       "      <td>216.0</td>\n",
       "      <td>7.8750</td>\n",
       "      <td>351900.0</td>\n",
       "      <td>&lt;1H OCEAN</td>\n",
       "    </tr>\n",
       "  </tbody>\n",
       "</table>\n",
       "</div>"
      ],
      "text/plain": [
       "        longitude   latitude  housing_median_age  total_rooms  total_bedrooms  \\\n",
       "4541  -118.199997  34.029999                37.0       1583.0           392.0   \n",
       "10211 -117.910004  33.889999                30.0       1631.0           212.0   \n",
       "\n",
       "       population  households  median_income  median_house_value  \\\n",
       "4541       1776.0       377.0         2.7266            140800.0   \n",
       "10211       523.0       216.0         7.8750            351900.0   \n",
       "\n",
       "      ocean_proximity  \n",
       "4541        <1H OCEAN  \n",
       "10211       <1H OCEAN  "
      ]
     },
     "execution_count": 81,
     "metadata": {},
     "output_type": "execute_result"
    }
   ],
   "source": [
    "california_data[0:2] # We can see that the data set has been randomized !"
   ]
  },
  {
   "cell_type": "markdown",
   "metadata": {},
   "source": [
    "# Build Models"
   ]
  },
  {
   "cell_type": "markdown",
   "metadata": {},
   "source": [
    "    * we'll be trying to predict median_house_value. This is the so called target variable\n",
    "    * total_rooms will be be input feature (called feature set)\n",
    "    * we'll build a Linear regression model using TensorFlow Library \n",
    "    * We will use GradientDescentOptimizer implements Mini-Batch Stochastic Gradient Descent (SGD)\n",
    "    * The size of the  mini-batch will be given by the batch_size parameter\n",
    "    * learning_rate parameter  controls the size of the gradient step to the optimizer\n",
    "    \n",
    "\n"
   ]
  },
  {
   "cell_type": "markdown",
   "metadata": {},
   "source": [
    "<p>We extract the feature set and target variable from the data frame. </p>"
   ]
  },
  {
   "cell_type": "code",
   "execution_count": 82,
   "metadata": {
    "collapsed": false
   },
   "outputs": [],
   "source": [
    "# Collect the feature input variable from the data set\n",
    "my_feature = california_data[\"total_rooms\"] \n",
    "\n",
    "# Collect the output/ target variable from the data set\n",
    "targets = california_data[\"median_house_value\"]\n",
    "\n"
   ]
  },
  {
   "cell_type": "code",
   "execution_count": 174,
   "metadata": {
    "collapsed": true
   },
   "outputs": [],
   "source": [
    "my_feature_new = my_feature.values; # extract feature values"
   ]
  },
  {
   "cell_type": "code",
   "execution_count": 176,
   "metadata": {
    "collapsed": false
   },
   "outputs": [],
   "source": [
    "targets_new = targets.values; # Extract target values"
   ]
  },
  {
   "cell_type": "markdown",
   "metadata": {},
   "source": [
    "<p><b> Normalize datset</b> </p>"
   ]
  },
  {
   "cell_type": "code",
   "execution_count": 189,
   "metadata": {
    "collapsed": true
   },
   "outputs": [],
   "source": [
    "def normalize(array):\n",
    "    return (array - array.mean()) / array.std()"
   ]
  },
  {
   "cell_type": "code",
   "execution_count": 230,
   "metadata": {
    "collapsed": false
   },
   "outputs": [],
   "source": [
    "my_new_feature_norm = normalize(my_feature_new) # Normalize input/ feature set"
   ]
  },
  {
   "cell_type": "code",
   "execution_count": 229,
   "metadata": {
    "collapsed": true
   },
   "outputs": [],
   "source": [
    "targets_new_norm = normalize(targets_new)  # normalize target variable"
   ]
  },
  {
   "cell_type": "markdown",
   "metadata": {},
   "source": [
    "<p> <b> Make Validationa and test set </b> </p>"
   ]
  },
  {
   "cell_type": "code",
   "execution_count": 233,
   "metadata": {
    "collapsed": false
   },
   "outputs": [
    {
     "name": "stdout",
     "output_type": "stream",
     "text": [
      "trianing set input shape:  (20440,)\n",
      "test set input shape:  (200,)\n"
     ]
    }
   ],
   "source": [
    "#img_size=10;\n",
    "VALIDATION_SIZE = 200\n",
    "\n",
    "test_X = my_new_feature_norm[:VALIDATION_SIZE]\n",
    "test_Y = targets_new_norm[:VALIDATION_SIZE]\n",
    "\n",
    "train_X = my_new_feature_norm[VALIDATION_SIZE:]\n",
    "train_Y = targets_new_norm[VALIDATION_SIZE:]\n",
    "\n",
    "\n",
    "print(\"trianing set input shape: \" ,train_X.shape)\n",
    "print(\"test set input shape: \",test_X.shape)\n"
   ]
  },
  {
   "cell_type": "markdown",
   "metadata": {},
   "source": [
    "<p> <b>Batch Function</b></p>\n",
    "<p>Below is a function to generate seperate batch for each iteration</p>"
   ]
  },
  {
   "cell_type": "code",
   "execution_count": 256,
   "metadata": {
    "collapsed": true
   },
   "outputs": [],
   "source": [
    "epochs_completed = 0\n",
    "index_in_epoch = 0\n",
    "num_examples = train_X.shape[0]\n",
    "\n",
    "def next_batch(batch_size):\n",
    "    \n",
    "    global train_X\n",
    "    global train_Y\n",
    "    global index_in_epoch\n",
    "    global epochs_completed\n",
    "    \n",
    "    start = index_in_epoch\n",
    "    index_in_epoch += batch_size\n",
    "    \n",
    "    # when all trainig data have been already used, it is reorder randomly    \n",
    "    if index_in_epoch > num_examples:\n",
    "        # finished epoch\n",
    "        epochs_completed += 1\n",
    "        # shuffle the data\n",
    "        perm = np.arange(num_examples)\n",
    "        np.random.shuffle(perm)\n",
    "        train_X = train_X[perm]\n",
    "        train_Y = train_Y[perm]\n",
    "        # start next epoch\n",
    "        start = 0\n",
    "        index_in_epoch = batch_size\n",
    "        assert batch_size <= num_examples\n",
    "    end = index_in_epoch\n",
    "    return train_X[start:end], train_Y[start:end]"
   ]
  },
  {
   "cell_type": "markdown",
   "metadata": {},
   "source": [
    "<p><b> Set Model Parameters for tensorFlow </b></p>"
   ]
  },
  {
   "cell_type": "code",
   "execution_count": null,
   "metadata": {
    "collapsed": true
   },
   "outputs": [],
   "source": [
    "#from sklearn.model_selection import train_test_split\n",
    "# Parameters\n",
    "learning_rate = 0.001\n",
    "training_epochs = 5\n",
    "display_step = 1\n",
    "SEED = 500\n",
    "BATCH_SIZE = 100;\n",
    "\n",
    "#Number of samples and random number generation\n",
    "n_samples = train_X.shape[0]\n",
    "rng = np.random\n",
    "\n",
    "\n",
    "#Use place holders to hold your variables\n",
    "X = tf.placeholder(\"float\")\n",
    "Y = tf.placeholder(\"float\")\n",
    "\n",
    "# Set model weights and bias\n",
    "\n",
    "W = tf.Variable(rng.randn(), name=\"weight\")\n",
    "b = tf.Variable(rng.randn(), name=\"bias\")\n",
    "\n",
    "\n",
    "\n",
    "\n",
    "# Construct a linear model\n",
    "pred = tf.add(tf.mul(X, W), b)\n",
    "\n",
    "\n",
    "\n",
    "# Mean squared error\n",
    "cost = tf.reduce_sum(tf.pow(pred-Y, 2))/(2*n_samples)\n",
    "\n",
    "\n",
    "\n",
    "# Gradient descent\n",
    "optimizer = tf.train.GradientDescentOptimizer(learning_rate).minimize(cost)\n",
    "\n",
    "\n",
    "\n",
    "\n"
   ]
  },
  {
   "cell_type": "markdown",
   "metadata": {},
   "source": [
    "<p><b> Train model </b><p>"
   ]
  },
  {
   "cell_type": "code",
   "execution_count": 293,
   "metadata": {
    "collapsed": false,
    "scrolled": true
   },
   "outputs": [
    {
     "name": "stdout",
     "output_type": "stream",
     "text": [
      "Epoch: 0001 cost= 1.022631526 W= 0.758541 b= -0.822192\n",
      "Epoch: 0002 cost= 1.021596789 W= 0.757963 b= -0.821367\n",
      "Epoch: 0003 cost= 1.020563602 W= 0.757386 b= -0.820543\n",
      "Epoch: 0004 cost= 1.019529939 W= 0.75681 b= -0.81972\n",
      "Epoch: 0005 cost= 1.018501997 W= 0.756234 b= -0.818897\n",
      "Optimization Finished!\n",
      "Training cost= 1.0185 W= 0.756234 b= -0.818897 \n",
      "\n"
     ]
    },
    {
     "data": {
      "image/png": "[encoded data removed]",
      "text/plain": [
       "<matplotlib.figure.Figure at 0x12b7bb940>"
      ]
     },
     "metadata": {},
     "output_type": "display_data"
    },
    {
     "name": "stdout",
     "output_type": "stream",
     "text": [
      "Testing... (Mean square loss Comparison)\n",
      "Testing cost= 1.15144\n",
      "Absolute mean square loss difference: 0.132934\n"
     ]
    }
   ],
   "source": [
    "# Initializing the variables\n",
    "init = tf.initialize_all_variables()\n",
    "# Launch the graph\n",
    "with tf.Session() as sess:\n",
    "    sess.run(init)\n",
    "\n",
    "    # Fit all training data\n",
    "    for epoch in range(training_epochs):\n",
    "        #batch_xs, batch_ys = next_batch(BATCH_SIZE)\n",
    "        batch_xs, batch_ys = next_batch(BATCH_SIZE) \n",
    "        # Use batch_xs and batch_ys instead\n",
    "        #of train_X and train \n",
    "        for (x, y) in zip(train_X, train_Y):\n",
    "            sess.run(optimizer, feed_dict={X: x, Y: y})\n",
    "\n",
    "        # Display logs per epoch step\n",
    "        if (epoch+1) % display_step == 0:\n",
    "            c = sess.run(cost, feed_dict={X: train_X, Y:train_Y})\n",
    "            #print(len(train_Y))\n",
    "            #predict = sess.run(pred, feed_dict={X: train_X, Y:train_Y})\n",
    "            #print(predict.shape)\n",
    "\n",
    "            print(\"Epoch:\", '%04d' % (epoch+1), \"cost=\", \"{:.9f}\".format(c), \\\n",
    "                \"W=\", sess.run(W), \"b=\", sess.run(b))\n",
    "\n",
    "    print(\"Optimization Finished!\")\n",
    "    training_cost = sess.run(cost, feed_dict={X: train_X, Y: train_Y})\n",
    "    \n",
    "    print(\"Training cost=\", training_cost, \"W=\", sess.run(W), \"b=\", sess.run(b),'\\n')\n",
    "\n",
    "    # Graphic display\n",
    "    fig, ax = plt.subplots()\n",
    "    \n",
    "    ax.plot(train_X, train_Y, 'ro', label='Original data')\n",
    "    ax.plot(train_X, sess.run(W) * train_X + sess.run(b), label='Fitted line')\n",
    "    ax.set_ylim((-1.5, 3))\n",
    "    ax.set_xlim((-2, 10))\n",
    "    plt.legend()\n",
    "    plt.show()\n",
    "\n",
    "    print(\"Testing... (Mean square loss Comparison)\")\n",
    "    testing_cost = sess.run(\n",
    "        tf.reduce_sum(tf.pow(pred - Y, 2)) / (2 * test_X.shape[0]),\n",
    "        feed_dict={X: test_X, Y: test_Y})  # same function as cost above\n",
    "    print(\"Testing cost=\", testing_cost)\n",
    "    print(\"Absolute mean square loss difference:\", abs(\n",
    "        training_cost - testing_cost))\n",
    "    \n",
    "    # Implement accuracy \n",
    "    \n",
    "    \n",
    "    #Uncomment to make use of this \n",
    "    #fig = plt.figure()\n",
    "    # plot 1\n",
    "    #ax1 = fig.add_subplot(211)\n",
    "    #ax1.set_ylim((-2, 2))\n",
    "    #ax1.set_xlim((0.5, 10.5))\n",
    "    #ax1.plot(test_X, test_Y, 'bo', label='Testing data')\n",
    "    \n",
    "    # Plot 2\n",
    "    #ax2 = fig.add_subplot(212)\n",
    "\n",
    "    #ax2.set_ylim((-3, 3))\n",
    "    #ax2.set_xlim((0.5, 10))\n",
    "    #ax2.plot(train_X, sess.run(W) * train_X + sess.run(b), label='Fitted line')\n",
    "\n",
    "    #plt.legend()\n",
    "    #plt.show()"
   ]
  },
  {
   "cell_type": "code",
   "execution_count": null,
   "metadata": {
    "collapsed": true
   },
   "outputs": [],
   "source": []
  },
  {
   "cell_type": "markdown",
   "metadata": {},
   "source": [
    "# Improving the model"
   ]
  },
  {
   "cell_type": "markdown",
   "metadata": {},
   "source": [
    "    * Incresase the iteration time\n",
    "    * replace train_y  and train_x in the ieration loop with (batch_xs and batch_xy)\n",
    "    * change weight values\n",
    "    * Do other parameter tunning as necessary\n",
    "    "
   ]
  },
  {
   "cell_type": "code",
   "execution_count": null,
   "metadata": {
    "collapsed": true
   },
   "outputs": [],
   "source": []
  }
 ],
 "metadata": {
  "anaconda-cloud": {},
  "kernelspec": {
   "display_name": "Python [seychelles]",
   "language": "python",
   "name": "Python [seychelles]"
  },
  "language_info": {
   "codemirror_mode": {
    "name": "ipython",
    "version": 3
   },
   "file_extension": ".py",
   "mimetype": "text/x-python",
   "name": "python",
   "nbconvert_exporter": "python",
   "pygments_lexer": "ipython3",
   "version": "3.5.2"
  }
 },
 "nbformat": 4,
 "nbformat_minor": 0
}
