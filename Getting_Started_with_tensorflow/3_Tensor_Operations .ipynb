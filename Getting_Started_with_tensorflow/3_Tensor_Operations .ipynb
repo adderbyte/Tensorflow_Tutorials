{
 "cells": [
  {
   "cell_type": "markdown",
   "metadata": {},
   "source": [
    "# Diving a little deeper into Tensorflow"
   ]
  },
  {
   "cell_type": "markdown",
   "metadata": {},
   "source": [
    "<p>In this session we provide a more explanation on how to use tensorflow variables and perform operations on them.  </p>"
   ]
  },
  {
   "cell_type": "markdown",
   "metadata": {},
   "source": [
    "<p><b>TENSORS AND THEIR SHAPES </b></p>"
   ]
  },
  {
   "cell_type": "markdown",
   "metadata": {},
   "source": [
    "<p>Shapes  characterize the <b>size</b> and <b>number of dimensions</b> of a tensor. The shape of a tensor is expressed as <i>list</i>, and  the ith element  of the list is size along dimension i. The length of the list  indicates the rank of the tensor (i.e., the number of dimensions).</p>"
   ]
  },
  {
   "cell_type": "code",
   "execution_count": 1,
   "metadata": {
    "collapsed": true
   },
   "outputs": [],
   "source": [
    "import tensorflow as tf\n",
    "import matplotlib.pyplot as plt # for visualization.\n",
    "import numpy as np              # Low-level numerical Python library.\n",
    "import pandas as pd             # Higher-level numerical Python library."
   ]
  },
  {
   "cell_type": "code",
   "execution_count": 5,
   "metadata": {
    "collapsed": false
   },
   "outputs": [
    {
     "name": "stdout",
     "output_type": "stream",
     "text": [
      " scalar of shape () and value:\n",
      "0.0\n",
      "vector of shape (3,) and value:\n",
      "[ 0.  0.  0.]\n",
      "matrix of shape (2, 3) and value:\n",
      "[[ 0.  0.  0.]\n",
      " [ 0.  0.  0.]]\n"
     ]
    }
   ],
   "source": [
    "with tf.Graph().as_default():\n",
    "    # A scalar is a 0-D tensor.\n",
    "    scalar = tf.zeros([])\n",
    "\n",
    "    # A vector with 3 elements.\n",
    "    vector = tf.zeros([3])\n",
    "\n",
    "    # A matrix with 2 rows and 3 columns.\n",
    "    matrix = tf.zeros([2, 3])\n",
    "\n",
    "    with tf.Session() as sess:\n",
    "        print 'scalar of shape', scalar.get_shape(), 'and value:\\n', scalar.eval()\n",
    "        print 'vector of shape', vector.get_shape(), 'and value:\\n', vector.eval()\n",
    "        print 'matrix of shape', matrix.get_shape(), 'and value:\\n', matrix.eval()\n"
   ]
  },
  {
   "cell_type": "markdown",
   "metadata": {},
   "source": [
    "<p>The example above is similar to the first tutorial where we used tf.constant and tf.variable. The importance of having correct tensor shape  can not be over emphasized given that most of the time our errors will be mostly due to incompatible  shape .</p>"
   ]
  },
  {
   "cell_type": "markdown",
   "metadata": {},
   "source": [
    "<p><b>BROADCASTING</b></p>"
   ]
  },
  {
   "cell_type": "markdown",
   "metadata": {},
   "source": [
    "<p>\n",
    "<p>Generally, we  perform element-wise operations (e.g. addition) on tensors of the same shape. In TensorFlow (just as in numpy), however, we mcan perform operations on tensors that would traditionally have been incompatible.</p>\n",
    "\n",
    "<p> <b>Broadcasting</b> enables TensorFlow to automatically enlarge the smaller array in an operation to be shape compatible for  element-wise operation.</p>\n",
    "When a tensor gets broadcast, its entries along that dimension get conceptually copied - for optimization purposes.</p>\n",
    "</p>\n",
    "For instance, broadcasting enables the following:\n",
    "If an operand requires a size [7] tensor, a size [1] or a size [ ] tensor can serve as an operand.\n",
    "If an operation requires a size [7, 10] tensor, any of the following sizes can serve as an operand:\n",
    "   * `[1, 10]`\n",
    "   * `[10]`\n",
    "   * `[]`\n",
    "   \n",
    "If an operation requires a size `[10, 13, 19]` tensor, any of the following sizes can serve as an operand:\n",
    "\n",
    "   * `[1, 13, 19]`\n",
    "   * `[10, 1, 19]`\n",
    "   * `[10, 13, 1]`\n",
    "   * `[1, 1, 1]`\n",
    "   * `[13, 19]`\n",
    "   * `[1, 19]`\n",
    "   * `[19]`\n",
    "   * `[1]`\n",
    "   * `[]`   "
   ]
  },
  {
   "cell_type": "markdown",
   "metadata": {},
   "source": [
    "To illutrate this consider the following example. We will provide example first for 1-Dimen. and then for 2-Dimen. For more on broadcasting visit this link http://scipy.github.io/old-wiki/pages/EricsBroadcastingDoc."
   ]
  },
  {
   "cell_type": "code",
   "execution_count": 2,
   "metadata": {
    "collapsed": false
   },
   "outputs": [
    {
     "name": "stdout",
     "output_type": "stream",
     "text": [
      "this example is for ID array,:  (3,)\n",
      "[7 8 8]\n"
     ]
    }
   ],
   "source": [
    "with tf.Graph().as_default():\n",
    "    # Create  vector (1-D tensor).\n",
    "    matrix = tf.constant([3, 4, 4], dtype=tf.int32)\n",
    "    print \"this example is for ID array,: \" ,matrix.shape\n",
    "\n",
    "    # Create a constant scalar with value 1.\n",
    "    value1 = tf.constant([4], dtype=tf.int32)\n",
    "    \n",
    "\n",
    "\n",
    "    # Add the two tensors. The resulting tensor is a six-element vector.\n",
    "    evaluation1 = tf.add(value1, matrix)\n",
    "    \n",
    "\n",
    "    with tf.Session() as sess:\n",
    "        print evaluation1.eval()\n",
    "        "
   ]
  },
  {
   "cell_type": "code",
   "execution_count": 5,
   "metadata": {
    "collapsed": false
   },
   "outputs": [
    {
     "name": "stdout",
     "output_type": "stream",
     "text": [
      "('2D example case. The shape of matrix is :', TensorShape([Dimension(2), Dimension(3)]))\n",
      "\n",
      "\n",
      "[[ 7  8  8]\n",
      " [ 8  9 10]]\n"
     ]
    }
   ],
   "source": [
    "with tf.Graph().as_default():\n",
    "    # Create  matrix (2-D tensor).\n",
    "    matrix = tf.constant([[3, 4, 4],[3,4,5]], dtype=tf.int32)\n",
    "    print(\"2D example case. The shape of matrix is :\",matrix.shape)\n",
    "    print\"\\n\"\n",
    "\n",
    "    # Create a constant scalar with value 1.\n",
    "    value1 = tf.constant([[4],[5]], dtype=tf.int32)\n",
    "    #Note that using value = tf.constant([[1,4],[1,5]], dtype=tf.int32) will give error. Because this is a matrix\n",
    "    # with its constituents vector. The vector of each row are I-D so we are left with only using one element\n",
    "    #value2= tf.constant([[1,4],[1,5]], dtype=tf.int32) uncomment \n",
    "\n",
    "    # Evaluations\n",
    "    evaluation1 = tf.add(value1, matrix)\n",
    "    #evaluation1 = tf.add(value2, matrix)\n",
    "\n",
    "    with tf.Session() as sess:\n",
    "        print evaluation1.eval()\n",
    "        #print evaluation2.eval()\n",
    "        "
   ]
  },
  {
   "cell_type": "markdown",
   "metadata": {},
   "source": [
    "<p>\n",
    "From the above note that the size we refer to is different from the number of of element in \"each dimension\" . It should be clear that in using tf.comstant for the example the values we parse in are the actual elements and not the size.\n",
    "\n",
    "\n",
    "\n",
    "</p>"
   ]
  },
  {
   "cell_type": "markdown",
   "metadata": {},
   "source": [
    "<b> Tensor reshaping </b>"
   ]
  },
  {
   "cell_type": "markdown",
   "metadata": {},
   "source": [
    "<p>When working with tensors it might at times  be necessary to reshape the operands so that a particular operation  ( eg multiplication) can be appllied on them. Reshaping can also help change the rank of a tensor.  </p>"
   ]
  },
  {
   "cell_type": "code",
   "execution_count": 53,
   "metadata": {
    "collapsed": false
   },
   "outputs": [
    {
     "name": "stdout",
     "output_type": "stream",
     "text": [
      "[[5 2]\n",
      " [4 3]]\n"
     ]
    }
   ],
   "source": [
    "#Illustration to show changing rank of a tensor from vector to matrix\n",
    "\n",
    "\n",
    "with tf.Graph().as_default():\n",
    "    # Create a 4-element vector (1-D tensor).\n",
    "    a = tf.constant([5, 2, 4, 3], dtype=tf.int32)\n",
    "\n",
    "    # Reshape that 4-element vector into a 2x2 matrix.\n",
    "    reshaped_version = tf.reshape(a, [2,2])\n",
    "    \n",
    "\n",
    "    with tf.Session() as sess:\n",
    "        print reshaped_version.eval()"
   ]
  },
  {
   "cell_type": "code",
   "execution_count": 56,
   "metadata": {
    "collapsed": false
   },
   "outputs": [
    {
     "name": "stdout",
     "output_type": "stream",
     "text": [
      "[10  4  8  6]\n"
     ]
    }
   ],
   "source": [
    "#Reshape a tensor so as to enable carrying out operation\n",
    "\n",
    "\n",
    "with tf.Graph().as_default():\n",
    "    # Create a 4-element vector (1-D tensor).\n",
    "    a = tf.constant([5, 2, 4, 3], dtype=tf.int32)\n",
    "    b = tf.constant([[5, 2],[ 4, 3]], dtype=tf.int32)\n",
    "    # Reshape b vector into a vector\n",
    "    reshaped_version = tf.reshape(b, [4])\n",
    "    multiply = tf.add(reshaped_version,a)\n",
    "    \n",
    "\n",
    "    with tf.Session() as sess:\n",
    "        print multiply.eval()"
   ]
  },
  {
   "cell_type": "code",
   "execution_count": 65,
   "metadata": {
    "collapsed": false
   },
   "outputs": [
    {
     "name": "stdout",
     "output_type": "stream",
     "text": [
      "[[44]\n",
      " [46]]\n"
     ]
    }
   ],
   "source": [
    "with tf.Graph().as_default(), tf.Session() as sess:\n",
    "    #  operands are initially incompatible for multiplication\n",
    "   \n",
    "    a = tf.constant([5, 3, 2, 7, 1, 4])\n",
    "    b = tf.constant([4, 6, 3])\n",
    "    # reshape at least one of these operands so that\n",
    "\n",
    "\n",
    "    # Reshape vector \"a\" into a 2-D 2x3 matrix:\n",
    "    reshaped_a = tf.reshape(a, [2,3])\n",
    "\n",
    "    # Reshape vector \"b\" into a 2-D 3x1 matrix:\n",
    "    reshaped_b = tf.reshape(b, [3,1])\n",
    "    #multiply the operands\n",
    "    c = tf.matmul(reshaped_a, reshaped_b)\n",
    "    print(c.eval())\n",
    "\n"
   ]
  },
  {
   "cell_type": "markdown",
   "metadata": {},
   "source": [
    "## Variables ( Initialisation, Assignment and Storing)\n"
   ]
  },
  {
   "cell_type": "markdown",
   "metadata": {},
   "source": [
    "<p>So far, all the concepts we've shown were stateless, they return the same value. TensorFlow `Variable` objects allow you to keep and change state of variables. </p>\n",
    "\n",
    "<p>When creating a variable, we may use an initial value, or you may use an initializer (like a distribution). This is shown in the example below:</p>"
   ]
  },
  {
   "cell_type": "markdown",
   "metadata": {},
   "source": [
    "<i> Sample code A </i>"
   ]
  },
  {
   "cell_type": "code",
   "execution_count": 129,
   "metadata": {
    "collapsed": false
   },
   "outputs": [
    {
     "name": "stdout",
     "output_type": "stream",
     "text": [
      "The value of w is :  [ 1.00258064]\n",
      "The value of w is :  [ 1.01562011]\n",
      "The value of w is :  [ 0.60514426]\n"
     ]
    }
   ],
   "source": [
    "\n",
    "g = tf.Graph()\n",
    "with g.as_default():\n",
    "    # Create a variable with the initial value 3\n",
    "    v = tf.Variable([3], dtype = tf.float32)\n",
    "\n",
    "    # w is a variable of shape [1], initialised with a random initial value,\n",
    "    # sampled from a normal distribution with mean 1 and standard deviation 0.35\n",
    "    w = tf.Variable(tf.random_normal([1], mean=1.0, stddev=0.50)) # \n",
    "    w = w.assign(tf.random_normal([1], mean=1.0, stddev=0.50))\n",
    "    with tf.Session() as sess:\n",
    "        print \"The value of w is : \", sess.run(w)\n",
    "        print \"The value of w is : \", sess.run(w)\n",
    "        print \"The value of w is : \", sess.run(w)"
   ]
  },
  {
   "cell_type": "markdown",
   "metadata": {},
   "source": [
    "<p><b>Variable initialisation is not automatic</b>. \n",
    "\n",
    "\n",
    "<p> We restate again that we  must distinguish between the <b>default values during creation of a variable</b> and <b>the initialisation</b>. Both are necesary. In the above example we used tf.assign for  initialisation.\n",
    "\n",
    "\n",
    "</p>"
   ]
  },
  {
   "cell_type": "markdown",
   "metadata": {},
   "source": [
    "Because we use op tf.assign to initialise a variable we will see that running cell <i>Sample code A</i> and the code below will yield different values.\n",
    "<b>Take away from this : To change the value of a variable use the assign op</b>"
   ]
  },
  {
   "cell_type": "markdown",
   "metadata": {},
   "source": [
    "----------\n",
    "# tf.global_variable_initializer( ) \n",
    "--------"
   ]
  },
  {
   "cell_type": "markdown",
   "metadata": {},
   "source": [
    "<p>\n",
    "<p>The easiest way to initialise a variable is to use <i>tf.global_variable_initializer( )</i> . But the value returned in this case will be constant</p>\n",
    "</p>"
   ]
  },
  {
   "cell_type": "code",
   "execution_count": 130,
   "metadata": {
    "collapsed": false
   },
   "outputs": [
    {
     "name": "stdout",
     "output_type": "stream",
     "text": [
      "[ 1.48002553]\n",
      "[ 1.48002553]\n",
      "[ 1.48002553]\n"
     ]
    }
   ],
   "source": [
    "with g.as_default():\n",
    "    # Create a variable with the initial value 3\n",
    "    v = tf.Variable([3], dtype = tf.float32)\n",
    "\n",
    "    # w is a variable of shape [1], initialised with a random initial value,\n",
    "    # sampled from a normal distribution with mean 1 and standard deviation 0.35\n",
    "    w = tf.Variable(tf.random_normal([1], mean=1.0, stddev=0.50)) # \n",
    "    \n",
    "    with tf.Session() as sess:\n",
    "        sess.run(tf.global_variables_initializer())\n",
    "        print (sess.run(w))\n",
    "        print (sess.run(w))\n",
    "        print (sess.run(w))"
   ]
  },
  {
   "cell_type": "markdown",
   "metadata": {},
   "source": [
    "Note the constant value returned below:"
   ]
  },
  {
   "cell_type": "code",
   "execution_count": 131,
   "metadata": {
    "collapsed": false
   },
   "outputs": [
    {
     "name": "stdout",
     "output_type": "stream",
     "text": [
      "[ 4.18530846]\n",
      "[ 4.18530846]\n",
      "[ 4.18530846]\n"
     ]
    }
   ],
   "source": [
    "\n",
    "with g.as_default():\n",
    "    sum = tf.add(w,v)\n",
    "    with tf.Session() as sess:\n",
    "        sess.run(tf.global_variables_initializer())\n",
    "        # These three prints will print the same value.\n",
    "        print sum.eval()\n",
    "        print sum.eval()\n",
    "        print sum.eval()"
   ]
  },
  {
   "cell_type": "markdown",
   "metadata": {},
   "source": [
    "Using the global initialiser in the same <i>Sample code A</i>"
   ]
  },
  {
   "cell_type": "markdown",
   "metadata": {},
   "source": [
    "## Comboining tf.global_variables_initializer( )  And Assign\n"
   ]
  },
  {
   "cell_type": "markdown",
   "metadata": {},
   "source": [
    "Combining the tf.global_variables_initializer and assign ops  will help simplify our work. In particular we can use the assign op after initialisation with tf.global_variable_initializer( ) to chnage the state of a variable"
   ]
  },
  {
   "cell_type": "code",
   "execution_count": 140,
   "metadata": {
    "collapsed": false
   },
   "outputs": [
    {
     "name": "stdout",
     "output_type": "stream",
     "text": [
      "initial value on initialisation:  [ 3.]\n",
      "Value before executing the assignment op:  [ 3.]\n",
      "Value after running the assignment op: [ 7.]\n"
     ]
    }
   ],
   "source": [
    "with g.as_default():\n",
    "    with tf.Session() as sess:\n",
    "        sess.run(tf.global_variables_initializer())\n",
    "        # This should print the variable's initial value.\n",
    "        print \"initial value on initialisation: \", v.eval()\n",
    "\n",
    "        assignment = tf.assign(v, [7])\n",
    "        # The variable has not been changed yet!\n",
    "        print \"Value before executing the assignment op: \", v.eval()\n",
    "\n",
    "        # Execute the assignment op.\n",
    "        sess.run(assignment)\n",
    "        # Now the variable is updated.\n",
    "        print \"Value after running the assignment op:\", v.eval()"
   ]
  },
  {
   "cell_type": "code",
   "execution_count": null,
   "metadata": {
    "collapsed": false
   },
   "outputs": [],
   "source": []
  },
  {
   "cell_type": "code",
   "execution_count": null,
   "metadata": {
    "collapsed": true
   },
   "outputs": [],
   "source": []
  }
 ],
 "metadata": {
  "anaconda-cloud": {},
  "kernelspec": {
   "display_name": "Python [python2]",
   "language": "python",
   "name": "Python [python2]"
  },
  "language_info": {
   "codemirror_mode": {
    "name": "ipython",
    "version": 2
   },
   "file_extension": ".py",
   "mimetype": "text/x-python",
   "name": "python",
   "nbconvert_exporter": "python",
   "pygments_lexer": "ipython2",
   "version": "2.7.12"
  }
 },
 "nbformat": 4,
 "nbformat_minor": 0
}
