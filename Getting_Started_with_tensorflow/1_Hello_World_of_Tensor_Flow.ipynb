{
 "cells": [
  {
   "cell_type": "markdown",
   "metadata": {},
   "source": [
    "# Hello World In Tensorflow"
   ]
  },
  {
   "cell_type": "markdown",
   "metadata": {},
   "source": [
    "We start of our journey by first providing a simple hello word program using tensorflow. This will will be followed by a discussion of the tensor flow paradigms which will help us understand this simple program. "
   ]
  },
  {
   "cell_type": "markdown",
   "metadata": {},
   "source": [
    "To use tensorflow we should import it:\n"
   ]
  },
  {
   "cell_type": "code",
   "execution_count": 2,
   "metadata": {
    "collapsed": false
   },
   "outputs": [],
   "source": [
    "import tensorflow as tf # This gives access to tensorflow libraries. Note that  Tensorflow was installed in a python2.7  \n",
    "                        # environment in anaconda"
   ]
  },
  {
   "cell_type": "markdown",
   "metadata": {},
   "source": [
    "The Hello word program Example. This is our first program!\n"
   ]
  },
  {
   "cell_type": "code",
   "execution_count": 3,
   "metadata": {
    "collapsed": false
   },
   "outputs": [
    {
     "name": "stdout",
     "output_type": "stream",
     "text": [
      "Hello, world!\n"
     ]
    }
   ],
   "source": [
    "helloworld = tf.constant('Hello, world!') # constant varirable declaration\n",
    "\n",
    "with tf.Session() as sess:      # create a session\n",
    "    print(sess.run(helloworld)) #print output of running the the constant c in a ssession\n"
   ]
  },
  {
   "cell_type": "markdown",
   "metadata": {
    "collapsed": false
   },
   "source": [
    "# Tensorflow mechanisms and Paradigms"
   ]
  },
  {
   "cell_type": "markdown",
   "metadata": {
    "collapsed": true
   },
   "source": [
    "There are 3 main concept to undrstand while using tensorflow:\n",
    "    1. Tensors\n",
    "    2. Operations\n",
    "    3. Graphs (also known as 'Computational graph' or 'Datagraph')\n",
    "    4. Sessions"
   ]
  },
  {
   "cell_type": "markdown",
   "metadata": {},
   "source": [
    "<p><b>Tensors: </b>Are arrays of arbitrary dimensionality and tensorflow actually gets its name from \"tensors\". . Tensors can be of any arbitrary dimensionality but most times we will often work with simpler dimensions. These dimensions can either be <i>static type</i> or  <i>dynamic</i>. Typical dimensions we will be working with are:\n",
    "The rank in the table below is the dimension of the tensor.\n",
    "<p> </p>\n",
    "        <table width = \"100%\">\n",
    "        <tr>\n",
    "    <th>Ranks</th><th>Math Entity</th><th>Python Example</th>\n",
    "      </tr>\n",
    "     <tr>\n",
    "      <td>0</td><td>Scalar (0-d array)</td> <td> \"Hello world\" or 5</td>\n",
    "      </tr>\n",
    "      <tr><td>1</td><td>Vector (1-d array)</td> <td>[1, 2, 3]</td>\n",
    "      </tr>\n",
    "       <tr><td>2</td><td>Matrix (2-d array)</td> <td>m = [  [1.1, 2.1, 3.1], [4.2, 9, 6], [10, 8, 67]  ]</td>\n",
    "      </tr> \n",
    "        \n",
    "        </table>\n",
    "\n",
    "\n",
    " </p>"
   ]
  },
  {
   "cell_type": "markdown",
   "metadata": {},
   "source": [
    "<p><b>Operations: </b> The tensor flow operations create, manipulate or destroy tensors which are fed into it.</p>\n",
    "<p><b>Graphs: </b> This is a typical graph data structure. A typical tensorflow program consist of one or more of these graphs. The critical principle in tensorflow -as far as we are concerned- is:\n",
    "    <ul style=\"list-style-type:disc\" >\n",
    "      <li> A graph's nodes are operations; a graph's edges are tensors.</li>\n",
    "      <li> Tensors flow through the graph, and are manipulated at each node by the operations.</li>\n",
    "      <li> The output tensor of one operation often becomes the input tensor to a subsequent operation. </li>\n",
    "      <li>nodes are only computed when needed, based on the needs of associated nodes</li>\n",
    "      <li>Graphs should run within a TensorFlow session.</li>\n",
    "    </ul>  \n",
    "    \n",
    " \n",
    "</p>\n",
    "</p><b>Sessions: </b>  A session holds all  the state for the graph(s) it runs. In addition, a session can distribute graph execution across multiple machines (assuming the program is run on some distributed computation framework).</p>"
   ]
  },
  {
   "cell_type": "markdown",
   "metadata": {},
   "source": [
    "#### Using the hello program as an example, can we identify the session, graph and tensor? "
   ]
  },
  {
   "cell_type": "markdown",
   "metadata": {},
   "source": [
    "<p><b>Other Important Concepts</b></p>\n",
    "<p><b>Variables/Constants</b> Tensors can be stored in the graph as <i>constants</i> or <i>variables</i>. Constants hold tensors whose values can't change, while variables hold tensors whose values can change. However, constants and variables are  <i>operations in the graph</i>. A constant is an operation that always returns the same tensor value. A variable is an operation that will return whichever tensor it has been assigned to.\n",
    "\n"
   ]
  },
  {
   "cell_type": "markdown",
   "metadata": {},
   "source": [
    "To define a <b> constant</b> use the \"tf.constant\" operator (since constant is an operation) and pass in its value. Note that a constant can either scalar or of multidimensions  as the examples below will show:\n",
    "\n",
    " "
   ]
  },
  {
   "cell_type": "code",
   "execution_count": 44,
   "metadata": {
    "collapsed": false
   },
   "outputs": [],
   "source": [
    "helloworld = tf.constant(\"hello world\");\n",
    "constant_Value = tf.constant(5) # Scalar. Note absence of square brackets. This is a Scalar Constant\n",
    "  "
   ]
  },
  {
   "cell_type": "code",
   "execution_count": 45,
   "metadata": {
    "collapsed": false
   },
   "outputs": [
    {
     "name": "stdout",
     "output_type": "stream",
     "text": [
      "Tensor(\"Const_28:0\", shape=(), dtype=int32)\n"
     ]
    }
   ],
   "source": [
    "#Note the shape . A scalar constant indeed!\n",
    "print(constant_Value) # we can also use print(x.get_shape)"
   ]
  },
  {
   "cell_type": "markdown",
   "metadata": {},
   "source": [
    "Note the square bracket in the examples below. Use the square brackets when you want 1,2,3.. Dimensions and not a scalar."
   ]
  },
  {
   "cell_type": "code",
   "execution_count": 46,
   "metadata": {
    "collapsed": false
   },
   "outputs": [
    {
     "name": "stdout",
     "output_type": "stream",
     "text": [
      "(1,)\n",
      "Tensor(\"Const_29:0\", shape=(1,), dtype=int32)\n",
      "<bound method Tensor.get_shape of <tf.Tensor 'Const_29:0' shape=(1,) dtype=int32>>\n",
      "Tensor(\"Const_30:0\", shape=(3,), dtype=int32)\n"
     ]
    }
   ],
   "source": [
    "#Lets change the constant:\n",
    "constant_Value_2 =  tf.constant([5])\n",
    "constant_value_3 = tf.constant([5,4,5])\n",
    "print(constant_Value_2.shape) # we can use consatant_value_2.shape too as illutrated here.\n",
    "print(constant_Value_2)      \n",
    "print(constant_Value_2.get_shape)# Note the constant is now a 1 d - that is a vector\n",
    "print(constant_value_3)# the shape is still 1 d - a vector. Observe the same thing for examples on variables.\n",
    "                       #Constant_value_2 and _3 are of same dimension. See note on variable on how to \n",
    "                       # read this"
   ]
  },
  {
   "cell_type": "code",
   "execution_count": 30,
   "metadata": {
    "collapsed": false
   },
   "outputs": [
    {
     "name": "stdout",
     "output_type": "stream",
     "text": [
      "(2, 3)\n",
      "Tensor(\"Const_21:0\", shape=(2, 3), dtype=int32)\n",
      "<bound method Tensor.get_shape of <tf.Tensor 'Const_21:0' shape=(2, 3) dtype=int32>>\n"
     ]
    }
   ],
   "source": [
    "constant_Value_4 =  tf.constant([[5,3,5],[2,3,5]])\n",
    "print(constant_Value_4)      \n",
    "print(constant_Value_4.get_shape)# Note the constant is now a 2 d - matrix\n"
   ]
  },
  {
   "cell_type": "markdown",
   "metadata": {},
   "source": [
    "Similarly, for a variable we have:\n",
    " \n",
    " \n"
   ]
  },
  {
   "cell_type": "code",
   "execution_count": 41,
   "metadata": {
    "collapsed": false
   },
   "outputs": [],
   "source": [
    "y = tf.Variable([5]) \n",
    "#Or you can create the variable first and assign a value later \n",
    "#like this (note that you always have to specify a default value):\n",
    "y = tf.Variable([0]) # specify default value\n",
    "y = y.assign([10])\n"
   ]
  },
  {
   "cell_type": "code",
   "execution_count": 42,
   "metadata": {
    "collapsed": true
   },
   "outputs": [],
   "source": [
    "# Now look at the examplw below. The first print shows that y is a tensfor flow object \n",
    "# (its type) and it still not a tensorflow program until we run it in a session. \n",
    "# when run in a session so that  we see that the value we expected was returned.  \n",
    "# we might expect - the value we assigned."
   ]
  },
  {
   "cell_type": "code",
   "execution_count": 43,
   "metadata": {
    "collapsed": false
   },
   "outputs": [
    {
     "name": "stdout",
     "output_type": "stream",
     "text": [
      "Tensor(\"Assign_3:0\", shape=(1,), dtype=int32_ref)\n",
      "[10]\n"
     ]
    }
   ],
   "source": [
    "print(y)\n",
    "with tf.Session() as sess:     \n",
    "    print(sess.run(y))"
   ]
  },
  {
   "cell_type": "markdown",
   "metadata": {},
   "source": [
    "<i>Note the shape that was returned above.</i> We proceed with two more examples: Note the change in shape for the example below. There is a subtle difference between this and the mathematical notion of dimension. In particular for the  example below:\n",
    "<p><i>Read the shape as vector with 2 elements and since it is a vector it is ONE DIMENSION - verify this from table above.</i></p>  "
   ]
  },
  {
   "cell_type": "code",
   "execution_count": 35,
   "metadata": {
    "collapsed": false
   },
   "outputs": [
    {
     "name": "stdout",
     "output_type": "stream",
     "text": [
      "Tensor(\"Assign_7:0\", shape=(2,), dtype=int32_ref)\n",
      "[2 3]\n"
     ]
    }
   ],
   "source": [
    "y = tf.Variable([2,3]) # specify default value\n",
    "y = y.assign([2,3])\n",
    "print(y)\n",
    "with tf.Session() as sess:     \n",
    "    print(sess.run(y))\n",
    "    \n"
   ]
  },
  {
   "cell_type": "code",
   "execution_count": 37,
   "metadata": {
    "collapsed": false
   },
   "outputs": [
    {
     "name": "stdout",
     "output_type": "stream",
     "text": [
      "Tensor(\"Assign_9:0\", shape=(2, 2), dtype=int32_ref)\n",
      "[[2 3]\n",
      " [4 5]]\n"
     ]
    }
   ],
   "source": [
    "y = tf.Variable([[2,3],[2,1]]) # specify default value\n",
    "y = y.assign([[2,3],[4,5]])\n",
    "print(y)\n",
    "with tf.Session() as sess:     \n",
    "    print(sess.run(y))"
   ]
  },
  {
   "cell_type": "markdown",
   "metadata": {},
   "source": [
    "The output above is a matrix of 4 elements. It is <i>Two dimensional</i>."
   ]
  },
  {
   "cell_type": "code",
   "execution_count": 42,
   "metadata": {
    "collapsed": false
   },
   "outputs": [
    {
     "name": "stdout",
     "output_type": "stream",
     "text": [
      "Tensor(\"Assign_12:0\", shape=(2, 3), dtype=int32_ref)\n",
      "[[2 3 4]\n",
      " [4 5 3]]\n"
     ]
    }
   ],
   "source": [
    "y = tf.Variable([[2,3,4],[2,1,2]]) # specify default value\n",
    "y = y.assign([[2,3,4],[4,5,3]])\n",
    "print(y)\n",
    "with tf.Session() as sess:     \n",
    "    print(sess.run(y))"
   ]
  },
  {
   "cell_type": "markdown",
   "metadata": {},
   "source": [
    "Care must be taken to monitor the dimensions. As this will always be a source of error and can lead to incompatible operations.\n",
    "Try using [2,3] , [1,2,5] as assigned values and observe the errors\n"
   ]
  },
  {
   "cell_type": "markdown",
   "metadata": {},
   "source": [
    "<p>We can combine the  constants and/or the variables,with other operations like \"tf.subtract\". \n",
    "\n",
    "<p>On evaluating the tf.subtract operation, it will call your tf.constant or \n",
    "tf.Variable operations to get their values and then return a new tensor with the difference of the values.\n",
    " </p>\n",
    "<p>It should be noted that, for tf.Variables we  must explicitly initialize all variables by creating a\n",
    "<b>tf.initialize_all_variables </b> operation and calling it at the start of your session.</p></p>"
   ]
  },
  {
   "cell_type": "code",
   "execution_count": null,
   "metadata": {
    "collapsed": true
   },
   "outputs": [],
   "source": []
  },
  {
   "cell_type": "code",
   "execution_count": null,
   "metadata": {
    "collapsed": true
   },
   "outputs": [],
   "source": []
  }
 ],
 "metadata": {
  "anaconda-cloud": {},
  "kernelspec": {
   "display_name": "Python [python2]",
   "language": "python",
   "name": "Python [python2]"
  },
  "language_info": {
   "codemirror_mode": {
    "name": "ipython",
    "version": 2
   },
   "file_extension": ".py",
   "mimetype": "text/x-python",
   "name": "python",
   "nbconvert_exporter": "python",
   "pygments_lexer": "ipython2",
   "version": "2.7.12"
  }
 },
 "nbformat": 4,
 "nbformat_minor": 1
}
